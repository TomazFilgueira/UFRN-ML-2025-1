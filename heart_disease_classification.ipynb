{
  "nbformat": 4,
  "nbformat_minor": 0,
  "metadata": {
    "colab": {
      "provenance": [],
      "gpuType": "T4",
      "authorship_tag": "ABX9TyMefwazIz6/zacMrgjnSRxE",
      "include_colab_link": true
    },
    "kernelspec": {
      "name": "python3",
      "display_name": "Python 3"
    },
    "language_info": {
      "name": "python"
    },
    "accelerator": "GPU"
  },
  "cells": [
    {
      "cell_type": "markdown",
      "metadata": {
        "id": "view-in-github",
        "colab_type": "text"
      },
      "source": [
        "<a href=\"https://colab.research.google.com/github/TomazFilgueira/UFRN-ML-2025-1-Heart_Disease_Classfication/blob/main/heart_disease_classification.ipynb\" target=\"_parent\"><img src=\"https://colab.research.google.com/assets/colab-badge.svg\" alt=\"Open In Colab\"/></a>"
      ]
    },
    {
      "cell_type": "markdown",
      "source": [
        "#Import Libraries"
      ],
      "metadata": {
        "id": "3rEiE_dqAfSh"
      }
    },
    {
      "cell_type": "code",
      "source": [
        "import numpy as np\n",
        "import matplotlib.pyplot as plt\n",
        "from matplotlib.colors import ListedColormap\n",
        "\n",
        "import torch\n",
        "import torch.optim as optim\n",
        "import torch.nn as nn\n",
        "import torch.functional as F\n",
        "from torch.utils.data import DataLoader, TensorDataset\n",
        "\n",
        "from sklearn.datasets import make_moons\n",
        "from sklearn.preprocessing import StandardScaler\n",
        "from sklearn.model_selection import train_test_split\n",
        "from sklearn.metrics import confusion_matrix, roc_curve, precision_recall_curve, auc\n",
        "from sklearn.metrics import accuracy_score\n",
        "\n",
        "%matplotlib inline\n",
        "plt.style.use('fivethirtyeight')\n"
      ],
      "metadata": {
        "id": "0tA1veEhAiP2"
      },
      "execution_count": 77,
      "outputs": []
    },
    {
      "cell_type": "markdown",
      "source": [
        "##Generate confusion matrix line figure\n"
      ],
      "metadata": {
        "id": "7u8CgMeMVKyE"
      }
    },
    {
      "cell_type": "code",
      "source": [
        "def figure10(y, probabilities, threshold, shift, annot, colors=None):\n",
        "    fig, ax = plt.subplots(1, 1, figsize=(10, 5))\n",
        "    probability_line(ax, y, probabilities, threshold, shift, annot, colors)\n",
        "    fig.tight_layout()\n",
        "    return fig"
      ],
      "metadata": {
        "id": "iHS3uiLoVO7E"
      },
      "execution_count": 79,
      "outputs": []
    },
    {
      "cell_type": "code",
      "source": [
        "def probability_contour(ax, model, device, X, y, threshold, cm=None, cm_bright=None):\n",
        "    if cm is None:\n",
        "        cm = plt.cm.RdBu\n",
        "    if cm_bright is None:\n",
        "        cm_bright = ListedColormap(['#FF0000', '#0000FF'])\n",
        "\n",
        "    h = .02  # step size in the mesh\n",
        "\n",
        "    x_min, x_max = -2.25, 2.25\n",
        "    y_min, y_max = -2.25, 2.25\n",
        "\n",
        "    xx, yy = np.meshgrid(np.arange(x_min, x_max, h),\n",
        "                         np.arange(y_min, y_max, h))\n",
        "\n",
        "    logits = model(torch.as_tensor(np.c_[xx.ravel(), yy.ravel()]).float().to(device))\n",
        "    logits = logits.detach().cpu().numpy().reshape(xx.shape)\n",
        "\n",
        "    yhat = sigmoid(logits)\n",
        "\n",
        "    ax.contour(xx, yy, yhat, levels=[threshold], cmap=\"Greys\", vmin=0, vmax=1)\n",
        "    contour = ax.contourf(xx, yy, yhat, 25, cmap=cm, alpha=.8, vmin=0, vmax=1)\n",
        "    # Plot the training points\n",
        "    ax.scatter(X[:, 0], X[:, 1], c=y, cmap=cm_bright, edgecolors='k')\n",
        "    # Plot the testing points\n",
        "    #ax.scatter(X_val[:, 0], X_val[:, 1], c=y_val, cmap=cm_bright, edgecolors='k', alpha=0.6)\n",
        "\n",
        "    ax.set_xlim(xx.min(), xx.max())\n",
        "    ax.set_ylim(yy.min(), yy.max())\n",
        "    ax.set_xlabel(r'$X_1$')\n",
        "    ax.set_ylabel(r'$X_2$')\n",
        "    ax.set_title(r'$\\sigma(z) = P(y=1)$')\n",
        "    ax.grid(False)\n",
        "\n",
        "    ax_c = plt.colorbar(contour)\n",
        "    ax_c.set_ticks([0, .25, .5, .75, 1])\n",
        "    return ax"
      ],
      "metadata": {
        "id": "KhWQ2cx-YZp7"
      },
      "execution_count": 78,
      "outputs": []
    },
    {
      "cell_type": "code",
      "source": [
        "def probability_line(ax, y, probs, threshold, shift=0.0, annot=False, colors=None):\n",
        "    if colors is None:\n",
        "        colors = ['r', 'b']\n",
        "    ax.grid(False)\n",
        "    ax.set_ylim([-.1, .1])\n",
        "    ax.axes.get_yaxis().set_visible(False)\n",
        "    ax.plot([0, 1], [0, 0], linewidth=2, c='k', zorder=1)\n",
        "    ax.plot([0, 0], [-.1, .1], c='k', zorder=1)\n",
        "    ax.plot([1, 1], [-.1, .1], c='k', zorder=1)\n",
        "\n",
        "    tn = (y == 0) & (probs < threshold)\n",
        "    fn = (y == 0) & (probs >= threshold)\n",
        "    tp = (y == 1) & (probs >= threshold)\n",
        "    fp = (y == 1) & (probs < threshold)\n",
        "\n",
        "    ax.plot([threshold, threshold], [-.1, .1], c='k', zorder=1, linestyle='--')\n",
        "    ax.scatter(probs[tn], np.zeros(tn.sum()) + shift, c=colors[0], s=150, zorder=2, edgecolor=colors[0], linewidth=3)\n",
        "    ax.scatter(probs[fn], np.zeros(fn.sum()) + shift, c=colors[0], s=150, zorder=2, edgecolor=colors[1], linewidth=3)\n",
        "\n",
        "    ax.scatter(probs[tp], np.zeros(tp.sum()) - shift, c=colors[1], s=150, zorder=2, edgecolor=colors[1], linewidth=3)\n",
        "    ax.scatter(probs[fp], np.zeros(fp.sum()) - shift, c=colors[1], s=150, zorder=2, edgecolor=colors[0], linewidth=3)\n",
        "\n",
        "    ax.set_xlabel(\"Output Model for Positive Class\")\n",
        "    ax.set_title('Threshold = {}'.format(threshold))\n",
        "\n",
        "    if annot:\n",
        "        ax.annotate('TN', xy=(.20, .03), c='k', weight='bold', fontsize=20)\n",
        "        ax.annotate('FN', xy=(.20, -.08), c='k', weight='bold', fontsize=20)\n",
        "        ax.annotate('FP', xy=(.70, .03), c='k', weight='bold', fontsize=20)\n",
        "        ax.annotate('TP', xy=(.70, -.08), c='k', weight='bold', fontsize=20)\n",
        "    return ax"
      ],
      "metadata": {
        "id": "U4SuuiBQYTIq"
      },
      "execution_count": 97,
      "outputs": []
    },
    {
      "cell_type": "markdown",
      "source": [
        "## Architeture Classs\n"
      ],
      "metadata": {
        "id": "XY81QgD4DTSF"
      }
    },
    {
      "cell_type": "code",
      "source": [
        "class Architecture(object):\n",
        "    def __init__(self, model, loss_fn, optimizer):\n",
        "        # Here we define the attributes of our class\n",
        "\n",
        "        # We start by storing the arguments as attributes\n",
        "        # to use them later\n",
        "        self.model = model\n",
        "        self.loss_fn = loss_fn\n",
        "        self.optimizer = optimizer\n",
        "        self.device = 'cuda' if torch.cuda.is_available() else 'cpu'\n",
        "        # Let's send the model to the specified device right away\n",
        "        self.model.to(self.device)\n",
        "\n",
        "        # These attributes are defined here, but since they are\n",
        "        # not informed at the moment of creation, we keep them None\n",
        "        self.train_loader = None\n",
        "        self.val_loader = None\n",
        "\n",
        "        # These attributes are going to be computed internally\n",
        "        self.losses = []\n",
        "        self.val_losses = []\n",
        "        self.total_epochs = 0\n",
        "\n",
        "        # Creates the train_step function for our model,\n",
        "        # loss function and optimizer\n",
        "        # Note: there are NO ARGS there! It makes use of the class\n",
        "        # attributes directly\n",
        "        self.train_step_fn = self._make_train_step_fn()\n",
        "        # Creates the val_step function for our model and loss\n",
        "        self.val_step_fn = self._make_val_step_fn()\n",
        "\n",
        "    def to(self, device):\n",
        "        # This method allows the user to specify a different device\n",
        "        # It sets the corresponding attribute (to be used later in\n",
        "        # the mini-batches) and sends the model to the device\n",
        "        try:\n",
        "            self.device = device\n",
        "            self.model.to(self.device)\n",
        "        except RuntimeError:\n",
        "            self.device = 'cuda' if torch.cuda.is_available() else 'cpu'\n",
        "            print(f\"Couldn't send it to {device}, sending it to {self.device} instead.\")\n",
        "            self.model.to(self.device)\n",
        "\n",
        "    def set_loaders(self, train_loader, val_loader=None):\n",
        "        # This method allows the user to define which train_loader (and val_loader, optionally) to use\n",
        "        # Both loaders are then assigned to attributes of the class\n",
        "        # So they can be referred to later\n",
        "        self.train_loader = train_loader\n",
        "        self.val_loader = val_loader\n",
        "\n",
        "    def _make_train_step_fn(self):\n",
        "        # This method does not need ARGS... it can refer to\n",
        "        # the attributes: self.model, self.loss_fn and self.optimizer\n",
        "\n",
        "        # Builds function that performs a step in the train loop\n",
        "        def perform_train_step_fn(x, y):\n",
        "            # Sets model to TRAIN mode\n",
        "            self.model.train()\n",
        "\n",
        "            # Step 1 - Computes our model's predicted output - forward pass\n",
        "            yhat = self.model(x)\n",
        "            # Step 2 - Computes the loss\n",
        "            loss = self.loss_fn(yhat, y)\n",
        "            # Step 3 - Computes gradients for both \"a\" and \"b\" parameters\n",
        "            loss.backward()\n",
        "            # Step 4 - Updates parameters using gradients and the learning rate\n",
        "            self.optimizer.step()\n",
        "            self.optimizer.zero_grad()\n",
        "\n",
        "            # Returns the loss\n",
        "            return loss.item()\n",
        "\n",
        "        # Returns the function that will be called inside the train loop\n",
        "        return perform_train_step_fn\n",
        "\n",
        "    def _make_val_step_fn(self):\n",
        "        # Builds function that performs a step in the validation loop\n",
        "        def perform_val_step_fn(x, y):\n",
        "            # Sets model to EVAL mode\n",
        "            self.model.eval()\n",
        "\n",
        "            # Step 1 - Computes our model's predicted output - forward pass\n",
        "            yhat = self.model(x)\n",
        "            # Step 2 - Computes the loss\n",
        "            loss = self.loss_fn(yhat, y)\n",
        "            # There is no need to compute Steps 3 and 4, since we don't update parameters during evaluation\n",
        "            return loss.item()\n",
        "\n",
        "        return perform_val_step_fn\n",
        "\n",
        "    def _mini_batch(self, validation=False):\n",
        "        # The mini-batch can be used with both loaders\n",
        "        # The argument `validation`defines which loader and\n",
        "        # corresponding step function is going to be used\n",
        "        if validation:\n",
        "            data_loader = self.val_loader\n",
        "            step_fn = self.val_step_fn\n",
        "        else:\n",
        "            data_loader = self.train_loader\n",
        "            step_fn = self.train_step_fn\n",
        "\n",
        "        if data_loader is None:\n",
        "            return None\n",
        "\n",
        "        # Once the data loader and step function, this is the same\n",
        "        # mini-batch loop we had before\n",
        "        mini_batch_losses = []\n",
        "        for x_batch, y_batch in data_loader:\n",
        "            x_batch = x_batch.to(self.device)\n",
        "            y_batch = y_batch.to(self.device)\n",
        "\n",
        "            mini_batch_loss = step_fn(x_batch, y_batch)\n",
        "            mini_batch_losses.append(mini_batch_loss)\n",
        "\n",
        "        loss = np.mean(mini_batch_losses)\n",
        "        return loss\n",
        "\n",
        "    def set_seed(self, seed=42):\n",
        "        torch.backends.cudnn.deterministic = True\n",
        "        torch.backends.cudnn.benchmark = False\n",
        "        torch.manual_seed(seed)\n",
        "        np.random.seed(seed)\n",
        "\n",
        "    def train(self, n_epochs, seed=42):\n",
        "        # To ensure reproducibility of the training process\n",
        "        self.set_seed(seed)\n",
        "\n",
        "        for epoch in range(n_epochs):\n",
        "            # Keeps track of the numbers of epochs\n",
        "            # by updating the corresponding attribute\n",
        "            self.total_epochs += 1\n",
        "\n",
        "            # inner loop\n",
        "            # Performs training using mini-batches\n",
        "            loss = self._mini_batch(validation=False)\n",
        "            self.losses.append(loss)\n",
        "\n",
        "            # VALIDATION\n",
        "            # no gradients in validation!\n",
        "            with torch.no_grad():\n",
        "                # Performs evaluation using mini-batches\n",
        "                val_loss = self._mini_batch(validation=True)\n",
        "                self.val_losses.append(val_loss)\n",
        "\n",
        "    def save_checkpoint(self, filename):\n",
        "        # Builds dictionary with all elements for resuming training\n",
        "        checkpoint = {'epoch': self.total_epochs,\n",
        "                      'model_state_dict': self.model.state_dict(),\n",
        "                      'optimizer_state_dict': self.optimizer.state_dict(),\n",
        "                      'loss': self.losses,\n",
        "                      'val_loss': self.val_losses}\n",
        "\n",
        "        torch.save(checkpoint, filename)\n",
        "\n",
        "    def load_checkpoint(self, filename):\n",
        "        # Loads dictionary\n",
        "        checkpoint = torch.load(filename,weights_only=False)\n",
        "\n",
        "        # Restore state for model and optimizer\n",
        "        self.model.load_state_dict(checkpoint['model_state_dict'])\n",
        "        self.optimizer.load_state_dict(checkpoint['optimizer_state_dict'])\n",
        "\n",
        "        self.total_epochs = checkpoint['epoch']\n",
        "        self.losses = checkpoint['loss']\n",
        "        self.val_losses = checkpoint['val_loss']\n",
        "\n",
        "        self.model.train() # always use TRAIN for resuming training\n",
        "\n",
        "    def predict(self, x):\n",
        "        # Set is to evaluation mode for predictions\n",
        "        self.model.eval()\n",
        "        # Takes aNumpy input and make it a float tensor\n",
        "        x_tensor = torch.as_tensor(x).float()\n",
        "        # Send input to device and uses model for prediction\n",
        "        y_hat_tensor = self.model(x_tensor.to(self.device))\n",
        "        # Set it back to train mode\n",
        "        self.model.train()\n",
        "        # Detaches it, brings it to CPU and back to Numpy\n",
        "        return y_hat_tensor.detach().cpu().numpy()\n",
        "\n",
        "    def plot_losses(self):\n",
        "        fig = plt.figure(figsize=(10, 4))\n",
        "        plt.plot(self.losses, label='Training Loss', c='b')\n",
        "        plt.plot(self.val_losses, label='Validation Loss', c='r')\n",
        "        plt.yscale('log')\n",
        "        plt.xlabel('Epochs')\n",
        "        plt.ylabel('Loss')\n",
        "        plt.legend()\n",
        "        plt.tight_layout()\n",
        "        return fig"
      ],
      "metadata": {
        "id": "g6klcDiUDQKL"
      },
      "execution_count": 81,
      "outputs": []
    },
    {
      "cell_type": "markdown",
      "source": [
        "#Read Reduced CSV File from Github"
      ],
      "metadata": {
        "id": "koq2OBME7Hup"
      }
    },
    {
      "cell_type": "code",
      "execution_count": 82,
      "metadata": {
        "id": "_MyTkbTT7Dc4",
        "colab": {
          "base_uri": "https://localhost:8080/"
        },
        "outputId": "3d79e4e5-a7c8-45ab-c4ef-3bcb096fd0f3"
      },
      "outputs": [
        {
          "output_type": "stream",
          "name": "stdout",
          "text": [
            "Successfully read CSV from GitHub\n",
            "   age     sex                cp  trestbps  chol  fbs                restecg  \\\n",
            "0   63    Male      Asymptomatic       145   233    1                 Normal   \n",
            "1   37    Male  Non-anginal pain       130   250    0  ST-T wave abnormality   \n",
            "2   41  Female   Atypical angina       130   204    0                 Normal   \n",
            "3   56    Male   Atypical angina       120   236    0  ST-T wave abnormality   \n",
            "4   57  Female    Typical angina       120   354    0  ST-T wave abnormality   \n",
            "\n",
            "   thalachh exang  oldpeak        slope  ca          thal  target elderly  \n",
            "0       150    No      2.3    Upsloping   0        Normal       1    >=60  \n",
            "1       187    No      3.5    Upsloping   0  Fixed defect       1     <60  \n",
            "2       172    No      1.4  Downsloping   0  Fixed defect       1     <60  \n",
            "3       178    No      0.8  Downsloping   0  Fixed defect       1     <60  \n",
            "4       163   Yes      0.6  Downsloping   0  Fixed defect       1     <60  \n"
          ]
        }
      ],
      "source": [
        "import pandas as pd\n",
        "\n",
        "url = \"https://raw.githubusercontent.com/TomazFilgueira/UFRN-ML-2025-1-Heart_Disease_Classfication/main/0_data/reduced_heart_disease_dataset.csv\" # Correct URL to raw file content\n",
        "\n",
        "try:\n",
        "  df = pd.read_csv(url)\n",
        "  print(\"Successfully read CSV from GitHub\")\n",
        "  # Now you can work with the DataFrame 'df'\n",
        "  print(df.head()) # Example: Display the first few rows\n",
        "\n",
        "except Exception as e:\n",
        "  print(f\"An error occurred: {e}\")"
      ]
    },
    {
      "cell_type": "markdown",
      "source": [
        "#Checkpoints\n",
        "\n",
        "After this points we will pass for a series of checkpoint in order to get our dataset classified using pytorch.\n",
        "\n",
        "Those checkpoints are:\n",
        "\n",
        "1.  Data Preparation:\n",
        "  * Create dummy variables\n",
        "  * Creator tensors\n",
        "  * build train and validation dataset/dataloader\n",
        "\n",
        "2. Configure Model: determine some parameters:\n",
        "  * Which model should we use to classify binary output?\n",
        "  * Defines Stocastic Gradient Descent\n",
        "  * Defines a loss function to classification\n",
        "\n",
        "3. Train the model itself using `Architeture()` class\n",
        "\n",
        "4. Validate the Model:\n",
        "  * is the model accurate to our problem?\n",
        "  * Let's evaluate some metrics such as:\n",
        "    - Recall/Precision\n",
        "    - Accuracy\n",
        "    - True and False Positive Rates\n",
        "\n",
        "4. Make Predictions"
      ],
      "metadata": {
        "id": "0IDMXpcFPC7t"
      }
    },
    {
      "cell_type": "markdown",
      "source": [
        "#1) Data Preparation\n",
        "\n",
        "Most of work has been done during the EDA parts. However, something must be adapted in order to our classify works properly\n",
        "\n",
        "First we need to convert categorical features into dummy ones."
      ],
      "metadata": {
        "id": "9kW2Kla1F2el"
      }
    },
    {
      "cell_type": "code",
      "source": [
        "df.head()"
      ],
      "metadata": {
        "colab": {
          "base_uri": "https://localhost:8080/",
          "height": 295
        },
        "id": "ahWJKZekGiBB",
        "outputId": "0fc41c9f-f243-49b6-8b4f-51f64a5b8ed8"
      },
      "execution_count": 83,
      "outputs": [
        {
          "output_type": "execute_result",
          "data": {
            "text/plain": [
              "   age     sex                cp  trestbps  chol  fbs                restecg  \\\n",
              "0   63    Male      Asymptomatic       145   233    1                 Normal   \n",
              "1   37    Male  Non-anginal pain       130   250    0  ST-T wave abnormality   \n",
              "2   41  Female   Atypical angina       130   204    0                 Normal   \n",
              "3   56    Male   Atypical angina       120   236    0  ST-T wave abnormality   \n",
              "4   57  Female    Typical angina       120   354    0  ST-T wave abnormality   \n",
              "\n",
              "   thalachh exang  oldpeak        slope  ca          thal  target elderly  \n",
              "0       150    No      2.3    Upsloping   0        Normal       1    >=60  \n",
              "1       187    No      3.5    Upsloping   0  Fixed defect       1     <60  \n",
              "2       172    No      1.4  Downsloping   0  Fixed defect       1     <60  \n",
              "3       178    No      0.8  Downsloping   0  Fixed defect       1     <60  \n",
              "4       163   Yes      0.6  Downsloping   0  Fixed defect       1     <60  "
            ],
            "text/html": [
              "\n",
              "  <div id=\"df-8fb98981-08d3-45c3-bf6f-4bebcda6aead\" class=\"colab-df-container\">\n",
              "    <div>\n",
              "<style scoped>\n",
              "    .dataframe tbody tr th:only-of-type {\n",
              "        vertical-align: middle;\n",
              "    }\n",
              "\n",
              "    .dataframe tbody tr th {\n",
              "        vertical-align: top;\n",
              "    }\n",
              "\n",
              "    .dataframe thead th {\n",
              "        text-align: right;\n",
              "    }\n",
              "</style>\n",
              "<table border=\"1\" class=\"dataframe\">\n",
              "  <thead>\n",
              "    <tr style=\"text-align: right;\">\n",
              "      <th></th>\n",
              "      <th>age</th>\n",
              "      <th>sex</th>\n",
              "      <th>cp</th>\n",
              "      <th>trestbps</th>\n",
              "      <th>chol</th>\n",
              "      <th>fbs</th>\n",
              "      <th>restecg</th>\n",
              "      <th>thalachh</th>\n",
              "      <th>exang</th>\n",
              "      <th>oldpeak</th>\n",
              "      <th>slope</th>\n",
              "      <th>ca</th>\n",
              "      <th>thal</th>\n",
              "      <th>target</th>\n",
              "      <th>elderly</th>\n",
              "    </tr>\n",
              "  </thead>\n",
              "  <tbody>\n",
              "    <tr>\n",
              "      <th>0</th>\n",
              "      <td>63</td>\n",
              "      <td>Male</td>\n",
              "      <td>Asymptomatic</td>\n",
              "      <td>145</td>\n",
              "      <td>233</td>\n",
              "      <td>1</td>\n",
              "      <td>Normal</td>\n",
              "      <td>150</td>\n",
              "      <td>No</td>\n",
              "      <td>2.3</td>\n",
              "      <td>Upsloping</td>\n",
              "      <td>0</td>\n",
              "      <td>Normal</td>\n",
              "      <td>1</td>\n",
              "      <td>&gt;=60</td>\n",
              "    </tr>\n",
              "    <tr>\n",
              "      <th>1</th>\n",
              "      <td>37</td>\n",
              "      <td>Male</td>\n",
              "      <td>Non-anginal pain</td>\n",
              "      <td>130</td>\n",
              "      <td>250</td>\n",
              "      <td>0</td>\n",
              "      <td>ST-T wave abnormality</td>\n",
              "      <td>187</td>\n",
              "      <td>No</td>\n",
              "      <td>3.5</td>\n",
              "      <td>Upsloping</td>\n",
              "      <td>0</td>\n",
              "      <td>Fixed defect</td>\n",
              "      <td>1</td>\n",
              "      <td>&lt;60</td>\n",
              "    </tr>\n",
              "    <tr>\n",
              "      <th>2</th>\n",
              "      <td>41</td>\n",
              "      <td>Female</td>\n",
              "      <td>Atypical angina</td>\n",
              "      <td>130</td>\n",
              "      <td>204</td>\n",
              "      <td>0</td>\n",
              "      <td>Normal</td>\n",
              "      <td>172</td>\n",
              "      <td>No</td>\n",
              "      <td>1.4</td>\n",
              "      <td>Downsloping</td>\n",
              "      <td>0</td>\n",
              "      <td>Fixed defect</td>\n",
              "      <td>1</td>\n",
              "      <td>&lt;60</td>\n",
              "    </tr>\n",
              "    <tr>\n",
              "      <th>3</th>\n",
              "      <td>56</td>\n",
              "      <td>Male</td>\n",
              "      <td>Atypical angina</td>\n",
              "      <td>120</td>\n",
              "      <td>236</td>\n",
              "      <td>0</td>\n",
              "      <td>ST-T wave abnormality</td>\n",
              "      <td>178</td>\n",
              "      <td>No</td>\n",
              "      <td>0.8</td>\n",
              "      <td>Downsloping</td>\n",
              "      <td>0</td>\n",
              "      <td>Fixed defect</td>\n",
              "      <td>1</td>\n",
              "      <td>&lt;60</td>\n",
              "    </tr>\n",
              "    <tr>\n",
              "      <th>4</th>\n",
              "      <td>57</td>\n",
              "      <td>Female</td>\n",
              "      <td>Typical angina</td>\n",
              "      <td>120</td>\n",
              "      <td>354</td>\n",
              "      <td>0</td>\n",
              "      <td>ST-T wave abnormality</td>\n",
              "      <td>163</td>\n",
              "      <td>Yes</td>\n",
              "      <td>0.6</td>\n",
              "      <td>Downsloping</td>\n",
              "      <td>0</td>\n",
              "      <td>Fixed defect</td>\n",
              "      <td>1</td>\n",
              "      <td>&lt;60</td>\n",
              "    </tr>\n",
              "  </tbody>\n",
              "</table>\n",
              "</div>\n",
              "    <div class=\"colab-df-buttons\">\n",
              "\n",
              "  <div class=\"colab-df-container\">\n",
              "    <button class=\"colab-df-convert\" onclick=\"convertToInteractive('df-8fb98981-08d3-45c3-bf6f-4bebcda6aead')\"\n",
              "            title=\"Convert this dataframe to an interactive table.\"\n",
              "            style=\"display:none;\">\n",
              "\n",
              "  <svg xmlns=\"http://www.w3.org/2000/svg\" height=\"24px\" viewBox=\"0 -960 960 960\">\n",
              "    <path d=\"M120-120v-720h720v720H120Zm60-500h600v-160H180v160Zm220 220h160v-160H400v160Zm0 220h160v-160H400v160ZM180-400h160v-160H180v160Zm440 0h160v-160H620v160ZM180-180h160v-160H180v160Zm440 0h160v-160H620v160Z\"/>\n",
              "  </svg>\n",
              "    </button>\n",
              "\n",
              "  <style>\n",
              "    .colab-df-container {\n",
              "      display:flex;\n",
              "      gap: 12px;\n",
              "    }\n",
              "\n",
              "    .colab-df-convert {\n",
              "      background-color: #E8F0FE;\n",
              "      border: none;\n",
              "      border-radius: 50%;\n",
              "      cursor: pointer;\n",
              "      display: none;\n",
              "      fill: #1967D2;\n",
              "      height: 32px;\n",
              "      padding: 0 0 0 0;\n",
              "      width: 32px;\n",
              "    }\n",
              "\n",
              "    .colab-df-convert:hover {\n",
              "      background-color: #E2EBFA;\n",
              "      box-shadow: 0px 1px 2px rgba(60, 64, 67, 0.3), 0px 1px 3px 1px rgba(60, 64, 67, 0.15);\n",
              "      fill: #174EA6;\n",
              "    }\n",
              "\n",
              "    .colab-df-buttons div {\n",
              "      margin-bottom: 4px;\n",
              "    }\n",
              "\n",
              "    [theme=dark] .colab-df-convert {\n",
              "      background-color: #3B4455;\n",
              "      fill: #D2E3FC;\n",
              "    }\n",
              "\n",
              "    [theme=dark] .colab-df-convert:hover {\n",
              "      background-color: #434B5C;\n",
              "      box-shadow: 0px 1px 3px 1px rgba(0, 0, 0, 0.15);\n",
              "      filter: drop-shadow(0px 1px 2px rgba(0, 0, 0, 0.3));\n",
              "      fill: #FFFFFF;\n",
              "    }\n",
              "  </style>\n",
              "\n",
              "    <script>\n",
              "      const buttonEl =\n",
              "        document.querySelector('#df-8fb98981-08d3-45c3-bf6f-4bebcda6aead button.colab-df-convert');\n",
              "      buttonEl.style.display =\n",
              "        google.colab.kernel.accessAllowed ? 'block' : 'none';\n",
              "\n",
              "      async function convertToInteractive(key) {\n",
              "        const element = document.querySelector('#df-8fb98981-08d3-45c3-bf6f-4bebcda6aead');\n",
              "        const dataTable =\n",
              "          await google.colab.kernel.invokeFunction('convertToInteractive',\n",
              "                                                    [key], {});\n",
              "        if (!dataTable) return;\n",
              "\n",
              "        const docLinkHtml = 'Like what you see? Visit the ' +\n",
              "          '<a target=\"_blank\" href=https://colab.research.google.com/notebooks/data_table.ipynb>data table notebook</a>'\n",
              "          + ' to learn more about interactive tables.';\n",
              "        element.innerHTML = '';\n",
              "        dataTable['output_type'] = 'display_data';\n",
              "        await google.colab.output.renderOutput(dataTable, element);\n",
              "        const docLink = document.createElement('div');\n",
              "        docLink.innerHTML = docLinkHtml;\n",
              "        element.appendChild(docLink);\n",
              "      }\n",
              "    </script>\n",
              "  </div>\n",
              "\n",
              "\n",
              "    <div id=\"df-5b75ef3f-013d-4030-aa49-095f78ac671f\">\n",
              "      <button class=\"colab-df-quickchart\" onclick=\"quickchart('df-5b75ef3f-013d-4030-aa49-095f78ac671f')\"\n",
              "                title=\"Suggest charts\"\n",
              "                style=\"display:none;\">\n",
              "\n",
              "<svg xmlns=\"http://www.w3.org/2000/svg\" height=\"24px\"viewBox=\"0 0 24 24\"\n",
              "     width=\"24px\">\n",
              "    <g>\n",
              "        <path d=\"M19 3H5c-1.1 0-2 .9-2 2v14c0 1.1.9 2 2 2h14c1.1 0 2-.9 2-2V5c0-1.1-.9-2-2-2zM9 17H7v-7h2v7zm4 0h-2V7h2v10zm4 0h-2v-4h2v4z\"/>\n",
              "    </g>\n",
              "</svg>\n",
              "      </button>\n",
              "\n",
              "<style>\n",
              "  .colab-df-quickchart {\n",
              "      --bg-color: #E8F0FE;\n",
              "      --fill-color: #1967D2;\n",
              "      --hover-bg-color: #E2EBFA;\n",
              "      --hover-fill-color: #174EA6;\n",
              "      --disabled-fill-color: #AAA;\n",
              "      --disabled-bg-color: #DDD;\n",
              "  }\n",
              "\n",
              "  [theme=dark] .colab-df-quickchart {\n",
              "      --bg-color: #3B4455;\n",
              "      --fill-color: #D2E3FC;\n",
              "      --hover-bg-color: #434B5C;\n",
              "      --hover-fill-color: #FFFFFF;\n",
              "      --disabled-bg-color: #3B4455;\n",
              "      --disabled-fill-color: #666;\n",
              "  }\n",
              "\n",
              "  .colab-df-quickchart {\n",
              "    background-color: var(--bg-color);\n",
              "    border: none;\n",
              "    border-radius: 50%;\n",
              "    cursor: pointer;\n",
              "    display: none;\n",
              "    fill: var(--fill-color);\n",
              "    height: 32px;\n",
              "    padding: 0;\n",
              "    width: 32px;\n",
              "  }\n",
              "\n",
              "  .colab-df-quickchart:hover {\n",
              "    background-color: var(--hover-bg-color);\n",
              "    box-shadow: 0 1px 2px rgba(60, 64, 67, 0.3), 0 1px 3px 1px rgba(60, 64, 67, 0.15);\n",
              "    fill: var(--button-hover-fill-color);\n",
              "  }\n",
              "\n",
              "  .colab-df-quickchart-complete:disabled,\n",
              "  .colab-df-quickchart-complete:disabled:hover {\n",
              "    background-color: var(--disabled-bg-color);\n",
              "    fill: var(--disabled-fill-color);\n",
              "    box-shadow: none;\n",
              "  }\n",
              "\n",
              "  .colab-df-spinner {\n",
              "    border: 2px solid var(--fill-color);\n",
              "    border-color: transparent;\n",
              "    border-bottom-color: var(--fill-color);\n",
              "    animation:\n",
              "      spin 1s steps(1) infinite;\n",
              "  }\n",
              "\n",
              "  @keyframes spin {\n",
              "    0% {\n",
              "      border-color: transparent;\n",
              "      border-bottom-color: var(--fill-color);\n",
              "      border-left-color: var(--fill-color);\n",
              "    }\n",
              "    20% {\n",
              "      border-color: transparent;\n",
              "      border-left-color: var(--fill-color);\n",
              "      border-top-color: var(--fill-color);\n",
              "    }\n",
              "    30% {\n",
              "      border-color: transparent;\n",
              "      border-left-color: var(--fill-color);\n",
              "      border-top-color: var(--fill-color);\n",
              "      border-right-color: var(--fill-color);\n",
              "    }\n",
              "    40% {\n",
              "      border-color: transparent;\n",
              "      border-right-color: var(--fill-color);\n",
              "      border-top-color: var(--fill-color);\n",
              "    }\n",
              "    60% {\n",
              "      border-color: transparent;\n",
              "      border-right-color: var(--fill-color);\n",
              "    }\n",
              "    80% {\n",
              "      border-color: transparent;\n",
              "      border-right-color: var(--fill-color);\n",
              "      border-bottom-color: var(--fill-color);\n",
              "    }\n",
              "    90% {\n",
              "      border-color: transparent;\n",
              "      border-bottom-color: var(--fill-color);\n",
              "    }\n",
              "  }\n",
              "</style>\n",
              "\n",
              "      <script>\n",
              "        async function quickchart(key) {\n",
              "          const quickchartButtonEl =\n",
              "            document.querySelector('#' + key + ' button');\n",
              "          quickchartButtonEl.disabled = true;  // To prevent multiple clicks.\n",
              "          quickchartButtonEl.classList.add('colab-df-spinner');\n",
              "          try {\n",
              "            const charts = await google.colab.kernel.invokeFunction(\n",
              "                'suggestCharts', [key], {});\n",
              "          } catch (error) {\n",
              "            console.error('Error during call to suggestCharts:', error);\n",
              "          }\n",
              "          quickchartButtonEl.classList.remove('colab-df-spinner');\n",
              "          quickchartButtonEl.classList.add('colab-df-quickchart-complete');\n",
              "        }\n",
              "        (() => {\n",
              "          let quickchartButtonEl =\n",
              "            document.querySelector('#df-5b75ef3f-013d-4030-aa49-095f78ac671f button');\n",
              "          quickchartButtonEl.style.display =\n",
              "            google.colab.kernel.accessAllowed ? 'block' : 'none';\n",
              "        })();\n",
              "      </script>\n",
              "    </div>\n",
              "\n",
              "    </div>\n",
              "  </div>\n"
            ],
            "application/vnd.google.colaboratory.intrinsic+json": {
              "type": "dataframe",
              "variable_name": "df",
              "summary": "{\n  \"name\": \"df\",\n  \"rows\": 424,\n  \"fields\": [\n    {\n      \"column\": \"age\",\n      \"properties\": {\n        \"dtype\": \"number\",\n        \"std\": 9,\n        \"min\": 29,\n        \"max\": 77,\n        \"num_unique_values\": 41,\n        \"samples\": [\n          46,\n          66,\n          48\n        ],\n        \"semantic_type\": \"\",\n        \"description\": \"\"\n      }\n    },\n    {\n      \"column\": \"sex\",\n      \"properties\": {\n        \"dtype\": \"category\",\n        \"num_unique_values\": 2,\n        \"samples\": [\n          \"Female\",\n          \"Male\"\n        ],\n        \"semantic_type\": \"\",\n        \"description\": \"\"\n      }\n    },\n    {\n      \"column\": \"cp\",\n      \"properties\": {\n        \"dtype\": \"category\",\n        \"num_unique_values\": 4,\n        \"samples\": [\n          \"Non-anginal pain\",\n          \"Typical angina\"\n        ],\n        \"semantic_type\": \"\",\n        \"description\": \"\"\n      }\n    },\n    {\n      \"column\": \"trestbps\",\n      \"properties\": {\n        \"dtype\": \"number\",\n        \"std\": 16,\n        \"min\": 94,\n        \"max\": 200,\n        \"num_unique_values\": 49,\n        \"samples\": [\n          104,\n          123\n        ],\n        \"semantic_type\": \"\",\n        \"description\": \"\"\n      }\n    },\n    {\n      \"column\": \"chol\",\n      \"properties\": {\n        \"dtype\": \"number\",\n        \"std\": 50,\n        \"min\": 126,\n        \"max\": 564,\n        \"num_unique_values\": 152,\n        \"samples\": [\n          214,\n          169\n        ],\n        \"semantic_type\": \"\",\n        \"description\": \"\"\n      }\n    },\n    {\n      \"column\": \"fbs\",\n      \"properties\": {\n        \"dtype\": \"number\",\n        \"std\": 0,\n        \"min\": 0,\n        \"max\": 1,\n        \"num_unique_values\": 2,\n        \"samples\": [\n          0,\n          1\n        ],\n        \"semantic_type\": \"\",\n        \"description\": \"\"\n      }\n    },\n    {\n      \"column\": \"restecg\",\n      \"properties\": {\n        \"dtype\": \"category\",\n        \"num_unique_values\": 3,\n        \"samples\": [\n          \"Normal\",\n          \"ST-T wave abnormality\"\n        ],\n        \"semantic_type\": \"\",\n        \"description\": \"\"\n      }\n    },\n    {\n      \"column\": \"thalachh\",\n      \"properties\": {\n        \"dtype\": \"number\",\n        \"std\": 22,\n        \"min\": 71,\n        \"max\": 202,\n        \"num_unique_values\": 91,\n        \"samples\": [\n          130,\n          152\n        ],\n        \"semantic_type\": \"\",\n        \"description\": \"\"\n      }\n    },\n    {\n      \"column\": \"exang\",\n      \"properties\": {\n        \"dtype\": \"category\",\n        \"num_unique_values\": 2,\n        \"samples\": [\n          \"Yes\",\n          \"No\"\n        ],\n        \"semantic_type\": \"\",\n        \"description\": \"\"\n      }\n    },\n    {\n      \"column\": \"oldpeak\",\n      \"properties\": {\n        \"dtype\": \"number\",\n        \"std\": 1.1162310086444682,\n        \"min\": 0.0,\n        \"max\": 6.2,\n        \"num_unique_values\": 40,\n        \"samples\": [\n          1.9,\n          3.0\n        ],\n        \"semantic_type\": \"\",\n        \"description\": \"\"\n      }\n    },\n    {\n      \"column\": \"slope\",\n      \"properties\": {\n        \"dtype\": \"category\",\n        \"num_unique_values\": 3,\n        \"samples\": [\n          \"Upsloping\",\n          \"Downsloping\"\n        ],\n        \"semantic_type\": \"\",\n        \"description\": \"\"\n      }\n    },\n    {\n      \"column\": \"ca\",\n      \"properties\": {\n        \"dtype\": \"number\",\n        \"std\": 0,\n        \"min\": 0,\n        \"max\": 4,\n        \"num_unique_values\": 5,\n        \"samples\": [\n          2,\n          4\n        ],\n        \"semantic_type\": \"\",\n        \"description\": \"\"\n      }\n    },\n    {\n      \"column\": \"thal\",\n      \"properties\": {\n        \"dtype\": \"category\",\n        \"num_unique_values\": 3,\n        \"samples\": [\n          \"Normal\",\n          \"Fixed defect\"\n        ],\n        \"semantic_type\": \"\",\n        \"description\": \"\"\n      }\n    },\n    {\n      \"column\": \"target\",\n      \"properties\": {\n        \"dtype\": \"number\",\n        \"std\": 0,\n        \"min\": 0,\n        \"max\": 1,\n        \"num_unique_values\": 2,\n        \"samples\": [\n          0,\n          1\n        ],\n        \"semantic_type\": \"\",\n        \"description\": \"\"\n      }\n    },\n    {\n      \"column\": \"elderly\",\n      \"properties\": {\n        \"dtype\": \"category\",\n        \"num_unique_values\": 2,\n        \"samples\": [\n          \"<60\",\n          \">=60\"\n        ],\n        \"semantic_type\": \"\",\n        \"description\": \"\"\n      }\n    }\n  ]\n}"
            }
          },
          "metadata": {},
          "execution_count": 83
        }
      ]
    },
    {
      "cell_type": "code",
      "source": [
        "# Create dummy variables for categorical features\n",
        "categorical_cols = ['sex','cp', 'restecg', 'exang', 'slope','thal','elderly']\n",
        "df_dummy = pd.get_dummies(df, columns=categorical_cols, drop_first=True)\n",
        "print(df_dummy.shape)"
      ],
      "metadata": {
        "colab": {
          "base_uri": "https://localhost:8080/"
        },
        "id": "FbWZmNTOGKUn",
        "outputId": "e82d9fdc-a83b-4eb5-82cf-ca994c467b8c"
      },
      "execution_count": 84,
      "outputs": [
        {
          "output_type": "stream",
          "name": "stdout",
          "text": [
            "(424, 20)\n"
          ]
        }
      ]
    },
    {
      "cell_type": "markdown",
      "source": [
        "##Balanced target column\n",
        "One of the biggest mistakes in classification problem is to let train and validation dataset with disproportional values of our target column.\n",
        "\n",
        "because of that we will calculate the proportion of target in the main dataset and will leave with same ratio in train and validation division.\n"
      ],
      "metadata": {
        "id": "nhjaU237IjWX"
      }
    },
    {
      "cell_type": "code",
      "source": [
        "# Calculate target proportion\n",
        "target_proportion = df['target'].value_counts(normalize=True)\n",
        "target_proportion\n"
      ],
      "metadata": {
        "colab": {
          "base_uri": "https://localhost:8080/",
          "height": 178
        },
        "id": "HLdvZfvCJDYG",
        "outputId": "3fcaf810-7921-4171-8a86-b7c203fc23db"
      },
      "execution_count": 85,
      "outputs": [
        {
          "output_type": "execute_result",
          "data": {
            "text/plain": [
              "target\n",
              "0    0.575472\n",
              "1    0.424528\n",
              "Name: proportion, dtype: float64"
            ],
            "text/html": [
              "<div>\n",
              "<style scoped>\n",
              "    .dataframe tbody tr th:only-of-type {\n",
              "        vertical-align: middle;\n",
              "    }\n",
              "\n",
              "    .dataframe tbody tr th {\n",
              "        vertical-align: top;\n",
              "    }\n",
              "\n",
              "    .dataframe thead th {\n",
              "        text-align: right;\n",
              "    }\n",
              "</style>\n",
              "<table border=\"1\" class=\"dataframe\">\n",
              "  <thead>\n",
              "    <tr style=\"text-align: right;\">\n",
              "      <th></th>\n",
              "      <th>proportion</th>\n",
              "    </tr>\n",
              "    <tr>\n",
              "      <th>target</th>\n",
              "      <th></th>\n",
              "    </tr>\n",
              "  </thead>\n",
              "  <tbody>\n",
              "    <tr>\n",
              "      <th>0</th>\n",
              "      <td>0.575472</td>\n",
              "    </tr>\n",
              "    <tr>\n",
              "      <th>1</th>\n",
              "      <td>0.424528</td>\n",
              "    </tr>\n",
              "  </tbody>\n",
              "</table>\n",
              "</div><br><label><b>dtype:</b> float64</label>"
            ]
          },
          "metadata": {},
          "execution_count": 85
        }
      ]
    },
    {
      "cell_type": "markdown",
      "source": [
        "##Creating tensors and building train/validation dataset"
      ],
      "metadata": {
        "id": "4O7LsmBHKH1x"
      }
    },
    {
      "cell_type": "code",
      "source": [
        "# Define features (X) and target (y)\n",
        "X = df_dummy.drop('target', axis=1).values\n",
        "y = df_dummy['target'].values\n",
        "\n",
        "# Split data into training and validation sets while maintaining target proportion\n",
        "X_train, X_val, y_train, y_val = train_test_split(X, y, test_size=0.2, random_state=42, stratify=df_dummy['target'])\n",
        "\n",
        "# Scale features using StandardScaler\n",
        "scaler = StandardScaler()\n",
        "X_train = scaler.fit_transform(X_train)\n",
        "X_val = scaler.transform(X_val)\n",
        "\n",
        "# Convert data to PyTorch tensors\n",
        "X_train_tensor = torch.tensor(X_train, dtype=torch.float32)\n",
        "y_train_tensor = torch.tensor(y_train, dtype=torch.float32).reshape(-1, 1)  # Reshape for single output\n",
        "X_val_tensor = torch.tensor(X_val, dtype=torch.float32)\n",
        "y_val_tensor = torch.tensor(y_val, dtype=torch.float32).reshape(-1, 1)\n",
        "\n",
        "# Create TensorDatasets\n",
        "train_dataset = TensorDataset(X_train_tensor, y_train_tensor)\n",
        "val_dataset = TensorDataset(X_val_tensor, y_val_tensor)\n",
        "\n",
        "# Create DataLoaders in mini_batch type with 16 observations\n",
        "train_loader = DataLoader(train_dataset, batch_size=16, shuffle=True)\n",
        "val_loader = DataLoader(val_dataset, batch_size=16, shuffle=False)"
      ],
      "metadata": {
        "id": "38y8RDwkGYG-"
      },
      "execution_count": 86,
      "outputs": []
    },
    {
      "cell_type": "code",
      "source": [
        "# Calculate the proportion of True values in y_train\n",
        "true_proportion_train = np.sum(y_train) / len(y_train)\n",
        "\n",
        "# Calculate the proportion of True values in y_val\n",
        "true_proportion_val = np.sum(y_val) / len(y_val)\n",
        "\n",
        "print(f\"Proportion of True values in y_train: {true_proportion_train}\")\n",
        "print(f\"Proportion of True values in y_val: {true_proportion_val}\")\n"
      ],
      "metadata": {
        "colab": {
          "base_uri": "https://localhost:8080/"
        },
        "id": "MwjZx5i_J4ei",
        "outputId": "fbd98da6-9972-4296-8eb7-d91becc71bb8"
      },
      "execution_count": 87,
      "outputs": [
        {
          "output_type": "stream",
          "name": "stdout",
          "text": [
            "Proportion of True values in y_train: 0.4247787610619469\n",
            "Proportion of True values in y_val: 0.4235294117647059\n"
          ]
        }
      ]
    },
    {
      "cell_type": "markdown",
      "source": [
        "The code above is just to be sure that our stratification in target column is made correctly.\n",
        "\n",
        "The proportion of true values in train and validation dataset is the same of the original dataframe"
      ],
      "metadata": {
        "id": "VTFBkeBcKZA2"
      }
    },
    {
      "cell_type": "markdown",
      "source": [
        "#2) Configure Model\n",
        "\n",
        "In this section we will configure our classification model.\n",
        "\n",
        "Starting with the following hyper-parameters:\n",
        "* lr = 0.05\n",
        "* model: linear with 19 predictors (dataset features exluding target column)\n",
        "* Optimizer: Stochastic Gradient Descent\n",
        "* Loss Function: Binary-Cross Entropy with Logit Loss. This loss function is widely used in classification problems because its output means logit that can be used for determining a probability of an event to happen\n"
      ],
      "metadata": {
        "id": "lhVbNGM5Km6h"
      }
    },
    {
      "cell_type": "code",
      "source": [
        "# Sets learning rate - this is \"eta\" ~ the \"n\" like Greek letter\n",
        "lr = 0.05\n",
        "\n",
        "torch.manual_seed(42)\n",
        "model = nn.Sequential()\n",
        "model.add_module('linear', nn.Linear(19, 1))\n",
        "\n",
        "# Defines a SGD optimizer to update the parameters\n",
        "optimizer = optim.SGD(model.parameters(), lr=lr)\n",
        "\n",
        "# Defines a BCE loss function\n",
        "loss_fn = nn.BCEWithLogitsLoss()"
      ],
      "metadata": {
        "id": "WDf9QpoxKt7a"
      },
      "execution_count": 88,
      "outputs": []
    },
    {
      "cell_type": "markdown",
      "source": [
        "#3 and 4)Training/Validation"
      ],
      "metadata": {
        "id": "KfakHYMYMCkT"
      }
    },
    {
      "cell_type": "code",
      "source": [
        "#set number of epochs\n",
        "n_epochs = 150\n",
        "\n",
        "#using Architecture class passing model, loss and optimized as parameters\n",
        "arch = Architecture(model, loss_fn, optimizer)\n",
        "arch.set_loaders(train_loader, val_loader)\n",
        "arch.set_seed(42)\n",
        "arch.train(n_epochs)\n"
      ],
      "metadata": {
        "id": "CL6embDdMG5-"
      },
      "execution_count": 89,
      "outputs": []
    },
    {
      "cell_type": "code",
      "source": [
        "fig = arch.plot_losses()"
      ],
      "metadata": {
        "colab": {
          "base_uri": "https://localhost:8080/",
          "height": 301
        },
        "id": "brXlLttUNIpU",
        "outputId": "095b5951-2c1a-4ce8-aa69-fcae4a170d2b"
      },
      "execution_count": 90,
      "outputs": [
        {
          "output_type": "display_data",
          "data": {
            "text/plain": [
              "<Figure size 1000x400 with 1 Axes>"
            ],
            "image/png": "[encoded data removed]"
          },
          "metadata": {}
        }
      ]
    },
    {
      "cell_type": "markdown",
      "source": [
        "From the figure above we can see the lines of training and validation loss.\n",
        "\n",
        "It is ease to see that our model did not overfitted because the error of train/validation remained similar throughout the epochs. However, the validation error itself can be optimized."
      ],
      "metadata": {
        "id": "3M7BEDB2OaWp"
      }
    },
    {
      "cell_type": "code",
      "source": [
        "print(model.state_dict())"
      ],
      "metadata": {
        "colab": {
          "base_uri": "https://localhost:8080/"
        },
        "id": "h1AhAeApNjDD",
        "outputId": "56df3e65-22dd-4b4d-9a32-635d40f99f28"
      },
      "execution_count": 91,
      "outputs": [
        {
          "output_type": "stream",
          "name": "stdout",
          "text": [
            "OrderedDict([('linear.weight', tensor([[ 0.2291, -0.0128,  0.0691,  0.1304,  0.0714, -0.1866, -0.6422,  0.1218,\n",
            "          0.0863,  0.1183, -0.3281,  0.2442,  0.7446, -0.3175, -0.5042, -0.1099,\n",
            "         -0.1744, -1.2536, -0.1689]], device='cuda:0')), ('linear.bias', tensor([-0.4998], device='cuda:0'))])\n"
          ]
        }
      ]
    },
    {
      "cell_type": "markdown",
      "source": [
        "##Metrics\n"
      ],
      "metadata": {
        "id": "Nk0AkE2bO80F"
      }
    },
    {
      "cell_type": "code",
      "source": [
        "def split_cm(cm):\n",
        "    # Actual negatives go in the top row,\n",
        "    # above the probability line\n",
        "    actual_negative = cm[0]\n",
        "    # Predicted negatives go in the first column\n",
        "    tn = actual_negative[0]\n",
        "    # Predicted positives go in the second column\n",
        "    fp = actual_negative[1]\n",
        "\n",
        "    # Actual positives go in the bottow row,\n",
        "    # below the probability line\n",
        "    actual_positive = cm[1]\n",
        "    # Predicted negatives go in the first column\n",
        "    fn = actual_positive[0]\n",
        "    # Predicted positives go in the second column\n",
        "    tp = actual_positive[1]\n",
        "\n",
        "    return tn, fp, fn, tp"
      ],
      "metadata": {
        "id": "EGL8qNQiZt27"
      },
      "execution_count": 92,
      "outputs": []
    },
    {
      "cell_type": "code",
      "source": [
        "#From logit to probablities\n",
        "def sigmoid(z):\n",
        "    return 1 / (1 + np.exp(-z))\n",
        "\n",
        "\n",
        "logits_val = arch.predict(X_val)\n",
        "probabilities_val = sigmoid(logits_val).squeeze()\n",
        "threshold = 0.5\n",
        "\n",
        "#Confusion Matrix using SKlearn\n",
        "cm_thresh50 = confusion_matrix(y_val, (probabilities_val >= 0.5))\n",
        "cm_thresh50"
      ],
      "metadata": {
        "id": "eLBeE1mKPXDd",
        "outputId": "3a8030b5-a243-468f-abc9-3d2a482b2afe",
        "colab": {
          "base_uri": "https://localhost:8080/"
        }
      },
      "execution_count": 93,
      "outputs": [
        {
          "output_type": "execute_result",
          "data": {
            "text/plain": [
              "array([[39, 10],\n",
              "       [ 6, 30]])"
            ]
          },
          "metadata": {},
          "execution_count": 93
        }
      ]
    },
    {
      "cell_type": "code",
      "source": [
        "#Confusion Matrix from Validation dataset\n",
        "fig = figure10(y_val, probabilities_val, threshold, 0.05, True)"
      ],
      "metadata": {
        "id": "9wupMr97ZKJT",
        "outputId": "17504bfd-1a8b-46a5-e92f-76bb9210e534",
        "colab": {
          "base_uri": "https://localhost:8080/",
          "height": 375
        }
      },
      "execution_count": 98,
      "outputs": [
        {
          "output_type": "display_data",
          "data": {
            "text/plain": [
              "<Figure size 1000x500 with 1 Axes>"
            ],
            "image/png": "[encoded data removed]"
          },
          "metadata": {}
        }
      ]
    },
    {
      "cell_type": "markdown",
      "source": [
        "##True and False Positive Rates\n",
        "$$\n",
        "\\Large \\text{TPR} = \\frac{\\text{TP}}{\\text{TP + FN}} \\ \\ \\  \\text{FPR} = \\frac{\\text{FP}}{\\text{FP + TN}}\n",
        "$$"
      ],
      "metadata": {
        "id": "lj2r9Lo5Z0nF"
      }
    },
    {
      "cell_type": "code",
      "source": [
        "def tpr_fpr(cm):\n",
        "    tn, fp, fn, tp = split_cm(cm)\n",
        "\n",
        "    tpr = tp / (tp + fn)\n",
        "    fpr = fp / (fp + tn)\n",
        "\n",
        "    return tpr, fpr\n"
      ],
      "metadata": {
        "id": "Wi8bkrYFaGTR"
      },
      "execution_count": 99,
      "outputs": []
    },
    {
      "cell_type": "markdown",
      "source": [
        "## Precision and Recall\n",
        "\n",
        "$$\n",
        "\\Large \\text{Recall} = \\frac{\\text{TP}}{\\text{TP + FN}} \\ \\ \\  \\text{Precision} = \\frac{\\text{TP}}{\\text{TP + FP}}\n",
        "$$"
      ],
      "metadata": {
        "id": "dLQc5GxAbAmW"
      }
    },
    {
      "cell_type": "code",
      "source": [
        "def precision_recall(cm):\n",
        "    tn, fp, fn, tp = split_cm(cm)\n",
        "\n",
        "    precision = tp / (tp + fp)\n",
        "    recall = tp / (tp + fn)\n",
        "\n",
        "    return precision, recall"
      ],
      "metadata": {
        "id": "f6FlBr35bFO3"
      },
      "execution_count": 100,
      "outputs": []
    },
    {
      "cell_type": "markdown",
      "source": [
        "##Accuracy\n",
        "\n",
        "$$\n",
        "\\Large \\text{Accuracy} = \\frac{\\text{TP+TN}}{\\text{TP+TN+FP+FN}}\n",
        "$$\n",
        "\n",
        "We can use `accuracy_score()` method directly from Sklearn"
      ],
      "metadata": {
        "id": "NuLFySgXbKi4"
      }
    },
    {
      "cell_type": "markdown",
      "source": [
        "#Evaluation"
      ],
      "metadata": {
        "id": "pwBITWbJbjCg"
      }
    },
    {
      "cell_type": "code",
      "source": [
        "#Precision-Recall\n",
        "precision,recall = precision_recall(cm_thresh50)\n",
        "#Accuracy\n",
        "acc = accuracy_score(y_val, (probabilities_val >= 0.5))\n",
        "#True and False Positive Rates\n",
        "tpr,fpr = tpr_fpr(cm_thresh50)\n",
        "\n",
        "print(f\"Precision Metrics: {precision}\\n\")\n",
        "print(f\"Recall Metrics: {recall}\\n\")\n",
        "print(f\"Accuracy score {acc}\\n\")\n",
        "print(f\"True Positive Rate:{tpr}\\n\")\n",
        "print(f\"False Positive Rate:{fpr}\\n\")"
      ],
      "metadata": {
        "id": "qrO1ifdhbNRa",
        "outputId": "986c27e2-36c1-4a16-87f4-521bb9c25c00",
        "colab": {
          "base_uri": "https://localhost:8080/"
        }
      },
      "execution_count": 101,
      "outputs": [
        {
          "output_type": "stream",
          "name": "stdout",
          "text": [
            "Precision Metrics: 0.75\n",
            "\n",
            "Recall Metrics: 0.8333333333333334\n",
            "\n",
            "Accuracy score 0.8117647058823529\n",
            "\n",
            "True Positive Rate:0.8333333333333334\n",
            "\n",
            "False Positive Rate:0.20408163265306123\n",
            "\n"
          ]
        }
      ]
    },
    {
      "cell_type": "code",
      "source": [
        "import matplotlib.pyplot as plt\n",
        "\n",
        "def plot_metrics(precision, recall, acc, tpr, fpr):\n",
        "    # Create a figure and a 1x3 grid of subplots\n",
        "    fig, axes = plt.subplots(1, 3, figsize=(15, 5))\n",
        "\n",
        "    # Subplot 1: Precision and Recall\n",
        "    axes[0].bar(['Precision', 'Recall'], [precision, recall], color=['skyblue', 'lightcoral'])\n",
        "    axes[0].set_title(\"Precision and Recall\")\n",
        "    axes[0].set_ylim(0, 1.1)\n",
        "    axes[0].grid(visible=None)\n",
        "    axes[0].set_yticks([])  # Hide y-axis values for subplot 1\n",
        "\n",
        "    for i, v in enumerate([precision, recall]):\n",
        "        axes[0].text(i, v + 0.02, f\"{v:.4f}\", ha='center', va='bottom', fontsize=15)\n",
        "\n",
        "    # Subplot 2: TPR and FPR\n",
        "    axes[1].bar(['TPR', 'FPR'], [tpr, fpr], color=['lightgreen', 'gold'])\n",
        "    axes[1].set_title(\"TPR and FPR\")\n",
        "    axes[1].set_ylim(0, 1.1)\n",
        "    axes[1].grid(visible=None)\n",
        "    axes[1].set_yticks([])  # Hide y-axis values for subplot 2\n",
        "\n",
        "    for i, v in enumerate([tpr, fpr]):\n",
        "        axes[1].text(i, v + 0.02, f\"{v:.4f}\", ha='center', va='bottom', fontsize=15)\n",
        "\n",
        "    # Subplot 3: Accuracy\n",
        "    axes[2].bar('Accuracy', acc, color=['lightblue'])\n",
        "    axes[2].set_title(\"Accuracy\")\n",
        "    axes[2].set_ylim(0, 1.1)\n",
        "    axes[2].text(0, acc + 0.02, f\"{acc:.4f}\", ha='center', va='bottom', fontsize=15)\n",
        "    axes[2].grid(visible=None)\n",
        "    axes[2].set_yticks([])  # Hide y-axis values for subplot 3\n",
        "\n",
        "    fig.tight_layout()  # Adjust subplot parameters for a tight layout\n",
        "    plt.show()\n",
        "\n",
        "# Example usage\n",
        "plot_metrics(precision, recall, acc, tpr, fpr)"
      ],
      "metadata": {
        "id": "1DK2KNLKchpS",
        "outputId": "d79f6157-2848-460e-d5f3-4064d44c7843",
        "colab": {
          "base_uri": "https://localhost:8080/",
          "height": 254
        }
      },
      "execution_count": null,
      "outputs": [
        {
          "output_type": "display_data",
          "data": {
            "text/plain": [
              "<Figure size 1500x500 with 3 Axes>"
            ],
            "image/png": "[encoded data removed]"
          },
          "metadata": {}
        }
      ]
    },
    {
      "cell_type": "markdown",
      "source": [
        "#Conclusion\n"
      ],
      "metadata": {
        "id": "lk0tOR-gk68n"
      }
    }
  ]
}